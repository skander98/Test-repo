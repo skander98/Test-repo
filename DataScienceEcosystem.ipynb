{
 "cells": [
  {
   "cell_type": "markdown",
   "id": "343ea3d5-5735-4ce8-a93f-474997eb027c",
   "metadata": {},
   "source": [
    "# Data Science Tools and Ecosystem "
   ]
  },
  {
   "cell_type": "markdown",
   "id": "ce4fecc1-41ae-45ed-83f7-a2ff4cd4c3f0",
   "metadata": {},
   "source": [
    "## In this notebook, Data Science Tools and Ecosystem are summarized."
   ]
  },
  {
   "cell_type": "markdown",
   "id": "5f6d71a9-a8b4-4d96-b6f4-fe797ccf0225",
   "metadata": {},
   "source": [
    "### **Objectives:**\n",
    "- List popular languages for Data Science.\n",
    "- Identify commonly used libraries in Data Science.\n",
    "- Explain the difference between Git push, commit, and pull request.\n",
    "- Create Markdown tables and lists in Jupyter Notebook.\n",
    "- Use Python functions for numerical operations like floor division.\n"
   ]
  },
  {
   "cell_type": "markdown",
   "id": "94643653-e661-4a2c-8044-3520fd04a2b8",
   "metadata": {},
   "source": [
    "## Some of the popular languages that Data Scientists use are:\n",
    "1. **Python** \n",
    "2. **R** \n",
    "3. **SQL** "
   ]
  },
  {
   "cell_type": "markdown",
   "id": "29c77729-9e70-4ee9-923d-de4e1879e438",
   "metadata": {},
   "source": [
    "## Some of the commonly used libraries used by Data Scientists include:\n",
    "1. **NumPy** \n",
    "2. **Pandas** \n",
    "3. **Scikit-learn** "
   ]
  },
  {
   "cell_type": "markdown",
   "id": "4531dc81-53a6-4e2c-ba7d-d395ddea76bf",
   "metadata": {},
   "source": [
    "| Data Science Tools       |\n",
    "|--------------------------|\n",
    "| Jupyter Notebook         |\n",
    "| RStudio                 |\n",
    "| Apache Zeppelin         |\n"
   ]
  },
  {
   "cell_type": "markdown",
   "id": "24488d82-a503-4a3c-813a-ec8480cbc75a",
   "metadata": {},
   "source": [
    "### Below are a few examples of evaluating arithmetic expressions in Python.\n"
   ]
  },
  {
   "cell_type": "code",
   "execution_count": 4,
   "id": "587f98ea-0f56-4cf0-b30d-bf43b60f6f54",
   "metadata": {},
   "outputs": [
    {
     "data": {
      "text/plain": [
       "17"
      ]
     },
     "execution_count": 4,
     "metadata": {},
     "output_type": "execute_result"
    }
   ],
   "source": [
    "# This a simple arithmetic expression to mutiply then add integers\n",
    "a=(3*4)+5\n",
    "a"
   ]
  },
  {
   "cell_type": "code",
   "execution_count": 6,
   "id": "0c058293-2f23-4dcc-9e67-9086b17dd278",
   "metadata": {},
   "outputs": [
    {
     "name": "stdout",
     "output_type": "stream",
     "text": [
      "200 minutes are 3:20 \n"
     ]
    }
   ],
   "source": [
    "#This will convert 200 minutes to hours by diving by 60\n",
    "b=200\n",
    "c=b//60\n",
    "d=b%60\n",
    "print(f'200 minutes are {c}:{d} ')"
   ]
  },
  {
   "cell_type": "markdown",
   "id": "063e623f-7a46-4d9a-a07d-9c463be23897",
   "metadata": {},
   "source": [
    "## Author\n",
    "### Skander Znaidi"
   ]
  }
 ],
 "metadata": {
  "kernelspec": {
   "display_name": "Python 3 (ipykernel)",
   "language": "python",
   "name": "python3"
  },
  "language_info": {
   "codemirror_mode": {
    "name": "ipython",
    "version": 3
   },
   "file_extension": ".py",
   "mimetype": "text/x-python",
   "name": "python",
   "nbconvert_exporter": "python",
   "pygments_lexer": "ipython3",
   "version": "3.11.7"
  }
 },
 "nbformat": 4,
 "nbformat_minor": 5
}
